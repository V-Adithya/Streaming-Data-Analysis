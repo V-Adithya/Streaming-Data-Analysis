{
  "nbformat": 4,
  "nbformat_minor": 0,
  "metadata": {
    "colab": {
      "provenance": []
    },
    "kernelspec": {
      "name": "python3",
      "display_name": "Python 3"
    },
    "language_info": {
      "name": "python"
    }
  },
  "cells": [
    {
      "cell_type": "code",
      "execution_count": 1,
      "metadata": {
        "id": "e5OG2IkIX2t4"
      },
      "outputs": [],
      "source": [
        "%matplotlib inline\n",
        "import matplotlib.pyplot as plt\n",
        "import seaborn as sns;sns.set() #for plot styling\n",
        "import numpy as np"
      ]
    },
    {
      "cell_type": "code",
      "source": [
        "class LeaderBasedClustering:\n",
        "  def __init__(self,num_clusters,max_iterations=100,tol=1e-4):\n",
        "    self.num_clusters=num_clusters\n",
        "    self.max_iterations=max_iterations\n",
        "    self.tol=tol\n",
        "    self.controids=None\n",
        "\n",
        "  def fit(self,X):\n",
        "    #Randomly select initial leaders\n",
        "    np.random.seed(0) #For reproducibility\n",
        "    self.centroids=X[np.random.choice(X.shape[0],self.num_clusters,replace=False)]\n",
        "\n",
        "    for iter_count in range(self.max_iterations):\n",
        "      #Assign each data point to the nearest Leader\n",
        "      labels=self._assign_labels(X)\n",
        "\n",
        "      #Update leaders based on the mean of points assigned to\n",
        "      new_centroids=np.array([X[labels==k].mean(axis=0) for k in range(self.num_clusters)])\n",
        "\n",
        "      #Check for convergence\n",
        "      if np.linalg.norm(new_centroids - self.centroids)<self.tol:\n",
        "        print(f\"Converged after {iter_count+1}iterations\")\n",
        "        break\n",
        "\n",
        "        self.centroids=new_centroids\n",
        "    else:\n",
        "      print(f\"Did not converge after {self.max_iterations} iterations.\")\n",
        "\n",
        "  def _assign_labels(self,X):\n",
        "    distances=np.linalg.norm(X[:,np.newaxis,:]-self.centroids,axis=2)\n",
        "    return np.argmin(distances,axis=1)\n",
        "\n",
        "\n",
        "#Example Usage\n",
        "if __name__==\"__main__\":\n",
        "  #Generate sample data\n",
        "  np.random.seed(0)\n",
        "  num_samples=1000\n",
        "  num_features=2\n",
        "  X=np.random.randn(num_samples,num_features)\n",
        "\n",
        "  #Instantiate and fit the leader-based clustering algorithms\n",
        "  num_clusters=3\n",
        "  leader_cluster=LeaderBasedClustering(num_clusters)\n",
        "  leader_cluster.fit(X)\n",
        "\n",
        "  #Get cluster labels\n",
        "  cluster_labels=leader_cluster._assign_labels(X)\n",
        "  print(\"Cluster labels:\",cluster_labels)"
      ],
      "metadata": {
        "colab": {
          "base_uri": "https://localhost:8080/"
        },
        "id": "6_QpIeI_X83u",
        "outputId": "bc0e3489-e804-4fdd-8195-dc9037fb9ea3"
      },
      "execution_count": 6,
      "outputs": [
        {
          "output_type": "stream",
          "name": "stdout",
          "text": [
            "Did not converge after 100 iterations.\n",
            "Cluster labels: [0 1 0 0 1 1 0 1 0 0 2 0 0 0 1 1 2 2 1 2 2 1 2 2 2 2 2 1 1 2 2 2 0 2 2 0 0\n",
            " 0 2 2 2 0 1 0 1 1 1 1 1 1 0 2 1 2 1 1 1 1 0 1 0 1 2 1 1 2 2 1 0 0 2 1 1 1\n",
            " 2 1 2 2 0 2 1 0 2 2 0 0 0 2 2 2 2 2 0 2 1 2 2 0 1 1 2 1 0 2 0 0 0 2 1 0 2\n",
            " 2 2 0 2 2 2 2 0 1 2 2 2 1 2 0 0 1 2 2 2 2 2 0 2 2 0 2 0 1 1 1 1 1 1 2 0 1\n",
            " 1 2 1 2 0 2 0 1 2 2 2 2 2 0 2 1 1 0 0 2 2 1 0 2 2 2 1 2 0 2 2 1 0 0 0 2 2\n",
            " 0 0 1 0 1 2 2 2 2 0 0 2 2 1 1 2 0 2 0 2 2 2 1 0 1 1 2 2 0 2 2 0 2 0 0 2 1\n",
            " 0 0 2 2 0 1 2 0 2 2 1 2 2 2 2 1 0 1 1 2 0 0 1 2 1 0 2 2 0 0 2 2 1 1 2 2 1\n",
            " 1 2 2 0 1 2 2 0 2 2 2 0 1 2 0 0 0 0 1 2 2 0 2 2 1 1 0 1 0 2 1 2 2 2 1 2 1\n",
            " 2 1 2 2 2 2 2 2 0 2 1 1 1 0 0 2 2 1 2 2 0 2 2 1 1 0 2 0 1 2 1 1 2 2 2 0 2\n",
            " 1 2 2 2 1 1 0 1 1 2 0 1 1 2 1 2 1 2 1 1 0 0 2 2 0 2 0 2 0 2 1 1 2 2 0 0 2\n",
            " 2 0 2 1 2 0 1 1 0 2 2 0 0 2 0 2 2 2 2 2 0 0 0 1 2 2 1 2 2 2 1 2 0 0 2 1 0\n",
            " 1 1 2 0 2 2 1 0 1 0 1 2 0 0 1 0 0 2 2 2 2 2 2 0 0 0 1 2 0 2 0 2 2 0 0 2 0\n",
            " 0 2 0 1 2 0 2 0 1 2 1 2 0 2 2 0 1 0 1 2 1 0 0 2 1 2 1 1 1 1 0 2 0 0 0 0 1\n",
            " 1 2 1 1 1 1 0 2 2 0 1 2 1 0 0 2 1 2 2 1 2 0 0 1 1 1 2 2 0 1 2 0 2 0 2 2 1\n",
            " 1 0 0 1 0 0 2 2 1 0 2 2 0 0 1 0 1 2 2 1 0 2 2 0 2 2 0 2 2 0 0 1 2 0 2 1 0\n",
            " 1 0 1 1 0 1 2 1 0 2 2 1 2 0 0 2 0 0 2 0 2 1 1 1 0 1 1 0 0 0 0 0 0 0 1 0 2\n",
            " 2 1 0 1 2 1 2 2 2 1 2 0 1 1 1 2 1 2 0 0 1 0 2 1 1 2 0 2 0 0 1 0 2 2 1 2 2\n",
            " 2 2 1 1 1 1 2 0 1 2 2 2 1 2 0 1 0 0 0 1 2 2 0 2 2 0 0 2 2 2 2 2 2 2 0 0 0\n",
            " 0 2 1 1 2 0 0 0 1 1 1 0 2 2 1 1 2 2 1 0 1 1 2 2 0 1 1 2 1 0 1 2 2 0 1 1 2\n",
            " 1 0 2 2 2 0 2 2 0 1 1 2 0 2 1 0 1 0 1 1 2 0 1 1 2 2 2 1 2 0 1 1 0 0 2 2 0\n",
            " 0 2 0 1 0 2 2 2 2 2 0 0 2 0 0 1 2 0 0 0 0 1 1 1 2 2 2 2 2 0 0 0 1 2 1 0 1\n",
            " 1 1 2 0 2 2 0 0 2 2 1 1 2 1 0 2 1 1 2 1 1 1 2 0 2 2 0 2 1 2 2 1 1 2 1 2 1\n",
            " 1 0 0 2 2 2 1 2 1 2 1 0 2 2 0 0 1 2 1 2 0 1 2 1 2 0 1 1 0 0 0 2 0 1 2 1 2\n",
            " 0 1 2 2 0 2 2 2 1 2 0 2 0 0 1 1 1 0 0 2 0 0 2 0 1 0 0 2 0 0 2 1 1 1 0 1 1\n",
            " 0 2 1 2 2 2 2 1 2 2 0 2 0 1 2 2 1 2 0 2 0 2 2 0 2 0 0 2 2 2 0 2 1 1 2 2 1\n",
            " 0 0 2 0 2 2 2 0 0 2 0 2 0 2 1 0 1 2 2 1 1 1 0 0 1 2 2 1 0 2 0 0 0 0 0 0 2\n",
            " 1 1 1 0 1 1 2 0 1 0 1 1 2 2 2 2 0 1 1 1 0 1 0 0 1 2 1 2 2 2 2 0 2 0 0 0 0\n",
            " 2]\n"
          ]
        }
      ]
    }
  ]
}