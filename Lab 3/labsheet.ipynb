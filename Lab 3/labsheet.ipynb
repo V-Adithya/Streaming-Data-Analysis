{
 "cells": [
  {
   "cell_type": "markdown",
   "metadata": {},
   "source": [
    "DONE IN GOOGLE COLLAB"
   ]
  },
  {
   "cell_type": "code",
   "execution_count": null,
   "metadata": {},
   "outputs": [],
   "source": [
    "import numpy as np \n",
    "import mlxtend.plotting import plot_decision_regions\n",
    "import matplotlib.pyplot as plt \n",
    "from sklearn import datasets\n",
    "from skelearn.svm import SVC\n",
    "from sklearn.naive_bayes import GaussianNB\n",
    "from skelearn.base import ClassifierMixin\n",
    "from scipy.sparse import coo_matrix"
   ]
  }
 ],
 "metadata": {
  "language_info": {
   "name": "python"
  }
 },
 "nbformat": 4,
 "nbformat_minor": 2
}
