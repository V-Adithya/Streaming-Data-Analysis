{
 "cells": [
  {
   "cell_type": "code",
   "execution_count": 1,
   "metadata": {
    "execution": {
     "iopub.execute_input": "2020-11-16T05:10:14.774728Z",
     "iopub.status.busy": "2020-11-16T05:10:14.773924Z",
     "iopub.status.idle": "2020-11-16T05:10:25.580304Z",
     "shell.execute_reply": "2020-11-16T05:10:25.579605Z"
    },
    "papermill": {
     "duration": 10.842746,
     "end_time": "2020-11-16T05:10:25.580445",
     "exception": false,
     "start_time": "2020-11-16T05:10:14.737699",
     "status": "completed"
    },
    "tags": []
   },
   "outputs": [
    {
     "name": "stdout",
     "output_type": "stream",
     "text": [
      "Collecting calplot\r\n",
      "  Downloading calplot-0.1.4-py3-none-any.whl (9.8 kB)\r\n",
      "Requirement already satisfied: matplotlib in /opt/conda/lib/python3.7/site-packages (from calplot) (3.2.1)\r\n",
      "Requirement already satisfied: pandas>=0.18 in /opt/conda/lib/python3.7/site-packages (from calplot) (1.1.3)\r\n",
      "Requirement already satisfied: numpy in /opt/conda/lib/python3.7/site-packages (from calplot) (1.18.5)\r\n",
      "Requirement already satisfied: kiwisolver>=1.0.1 in /opt/conda/lib/python3.7/site-packages (from matplotlib->calplot) (1.2.0)\r\n",
      "Requirement already satisfied: cycler>=0.10 in /opt/conda/lib/python3.7/site-packages (from matplotlib->calplot) (0.10.0)\r\n",
      "Requirement already satisfied: python-dateutil>=2.1 in /opt/conda/lib/python3.7/site-packages (from matplotlib->calplot) (2.8.1)\r\n",
      "Requirement already satisfied: pyparsing!=2.0.4,!=2.1.2,!=2.1.6,>=2.0.1 in /opt/conda/lib/python3.7/site-packages (from matplotlib->calplot) (2.4.7)\r\n",
      "Requirement already satisfied: pytz>=2017.2 in /opt/conda/lib/python3.7/site-packages (from pandas>=0.18->calplot) (2019.3)\r\n",
      "Requirement already satisfied: six in /opt/conda/lib/python3.7/site-packages (from cycler>=0.10->matplotlib->calplot) (1.14.0)\r\n",
      "Installing collected packages: calplot\r\n",
      "Successfully installed calplot-0.1.4\r\n",
      "\u001b[33mWARNING: You are using pip version 20.2.3; however, version 20.2.4 is available.\r\n",
      "You should consider upgrading via the '/opt/conda/bin/python -m pip install --upgrade pip' command.\u001b[0m\r\n",
      "Note: you may need to restart the kernel to use updated packages.\n"
     ]
    }
   ],
   "source": [
    "pip install calplot"
   ]
  },
  {
   "cell_type": "code",
   "execution_count": 2,
   "metadata": {
    "execution": {
     "iopub.execute_input": "2020-11-16T05:10:25.644754Z",
     "iopub.status.busy": "2020-11-16T05:10:25.641438Z",
     "iopub.status.idle": "2020-11-16T05:10:36.473234Z",
     "shell.execute_reply": "2020-11-16T05:10:36.473825Z"
    },
    "papermill": {
     "duration": 10.865912,
     "end_time": "2020-11-16T05:10:36.474002",
     "exception": false,
     "start_time": "2020-11-16T05:10:25.608090",
     "status": "completed"
    },
    "tags": []
   },
   "outputs": [
    {
     "name": "stdout",
     "output_type": "stream",
     "text": [
      "Collecting apyori\r\n",
      "  Downloading apyori-1.1.2.tar.gz (8.6 kB)\r\n",
      "Building wheels for collected packages: apyori\r\n",
      "  Building wheel for apyori (setup.py) ... \u001b[?25l-\b \b\\\b \bdone\r\n",
      "\u001b[?25h  Created wheel for apyori: filename=apyori-1.1.2-py3-none-any.whl size=5974 sha256=a4b8609462688d076644f8f440f52ae8401ada9cec8ceeed36e47bb31d314f2c\r\n",
      "  Stored in directory: /root/.cache/pip/wheels/cb/f6/e1/57973c631d27efd1a2f375bd6a83b2a616c4021f24aab84080\r\n",
      "Successfully built apyori\r\n",
      "Installing collected packages: apyori\r\n",
      "Successfully installed apyori-1.1.2\r\n",
      "\u001b[33mWARNING: You are using pip version 20.2.3; however, version 20.2.4 is available.\r\n",
      "You should consider upgrading via the '/opt/conda/bin/python -m pip install --upgrade pip' command.\u001b[0m\r\n",
      "Note: you may need to restart the kernel to use updated packages.\n"
     ]
    }
   ],
   "source": [
    "pip install apyori"
   ]
  },
  {
   "cell_type": "markdown",
   "metadata": {
    "papermill": {
     "duration": 0.030619,
     "end_time": "2020-11-16T05:10:36.535557",
     "exception": false,
     "start_time": "2020-11-16T05:10:36.504938",
     "status": "completed"
    },
    "tags": []
   },
   "source": [
    "### Importing the libraries"
   ]
  },
  {
   "cell_type": "code",
   "execution_count": 3,
   "metadata": {
    "execution": {
     "iopub.execute_input": "2020-11-16T05:10:36.605062Z",
     "iopub.status.busy": "2020-11-16T05:10:36.604293Z",
     "iopub.status.idle": "2020-11-16T05:10:38.800623Z",
     "shell.execute_reply": "2020-11-16T05:10:38.799772Z"
    },
    "papermill": {
     "duration": 2.234198,
     "end_time": "2020-11-16T05:10:38.800765",
     "exception": false,
     "start_time": "2020-11-16T05:10:36.566567",
     "status": "completed"
    },
    "tags": []
   },
   "outputs": [],
   "source": [
    "import numpy as np\n",
    "import pandas as pd\n",
    "import matplotlib.pyplot as plt\n",
    "import seaborn as sns\n",
    "import plotly.express as px\n",
    "import calplot\n",
    "import warnings\n",
    "warnings.filterwarnings('ignore')"
   ]
  },
  {
   "cell_type": "markdown",
   "metadata": {
    "papermill": {
     "duration": 0.030577,
     "end_time": "2020-11-16T05:10:38.862574",
     "exception": false,
     "start_time": "2020-11-16T05:10:38.831997",
     "status": "completed"
    },
    "tags": []
   },
   "source": [
    "### Importing the dataset"
   ]
  },
  {
   "cell_type": "code",
   "execution_count": 4,
   "metadata": {
    "execution": {
     "iopub.execute_input": "2020-11-16T05:10:38.933664Z",
     "iopub.status.busy": "2020-11-16T05:10:38.932855Z",
     "iopub.status.idle": "2020-11-16T05:10:38.979530Z",
     "shell.execute_reply": "2020-11-16T05:10:38.978835Z"
    },
    "papermill": {
     "duration": 0.086222,
     "end_time": "2020-11-16T05:10:38.979696",
     "exception": false,
     "start_time": "2020-11-16T05:10:38.893474",
     "status": "completed"
    },
    "tags": []
   },
   "outputs": [],
   "source": [
    "grocery_dataset = pd.read_csv('../input/groceries-dataset/Groceries_dataset.csv')"
   ]
  },
  {
   "cell_type": "code",
   "execution_count": 5,
   "metadata": {
    "execution": {
     "iopub.execute_input": "2020-11-16T05:10:39.063894Z",
     "iopub.status.busy": "2020-11-16T05:10:39.063080Z",
     "iopub.status.idle": "2020-11-16T05:10:39.074399Z",
     "shell.execute_reply": "2020-11-16T05:10:39.073655Z"
    },
    "papermill": {
     "duration": 0.062666,
     "end_time": "2020-11-16T05:10:39.074542",
     "exception": false,
     "start_time": "2020-11-16T05:10:39.011876",
     "status": "completed"
    },
    "tags": []
   },
   "outputs": [
    {
     "data": {
      "text/html": [
       "<div>\n",
       "<style scoped>\n",
       "    .dataframe tbody tr th:only-of-type {\n",
       "        vertical-align: middle;\n",
       "    }\n",
       "\n",
       "    .dataframe tbody tr th {\n",
       "        vertical-align: top;\n",
       "    }\n",
       "\n",
       "    .dataframe thead th {\n",
       "        text-align: right;\n",
       "    }\n",
       "</style>\n",
       "<table border=\"1\" class=\"dataframe\">\n",
       "  <thead>\n",
       "    <tr style=\"text-align: right;\">\n",
       "      <th></th>\n",
       "      <th>Member_number</th>\n",
       "      <th>Date</th>\n",
       "      <th>itemDescription</th>\n",
       "    </tr>\n",
       "  </thead>\n",
       "  <tbody>\n",
       "    <tr>\n",
       "      <th>0</th>\n",
       "      <td>1808</td>\n",
       "      <td>21-07-2015</td>\n",
       "      <td>tropical fruit</td>\n",
       "    </tr>\n",
       "    <tr>\n",
       "      <th>1</th>\n",
       "      <td>2552</td>\n",
       "      <td>05-01-2015</td>\n",
       "      <td>whole milk</td>\n",
       "    </tr>\n",
       "    <tr>\n",
       "      <th>2</th>\n",
       "      <td>2300</td>\n",
       "      <td>19-09-2015</td>\n",
       "      <td>pip fruit</td>\n",
       "    </tr>\n",
       "    <tr>\n",
       "      <th>3</th>\n",
       "      <td>1187</td>\n",
       "      <td>12-12-2015</td>\n",
       "      <td>other vegetables</td>\n",
       "    </tr>\n",
       "    <tr>\n",
       "      <th>4</th>\n",
       "      <td>3037</td>\n",
       "      <td>01-02-2015</td>\n",
       "      <td>whole milk</td>\n",
       "    </tr>\n",
       "    <tr>\n",
       "      <th>...</th>\n",
       "      <td>...</td>\n",
       "      <td>...</td>\n",
       "      <td>...</td>\n",
       "    </tr>\n",
       "    <tr>\n",
       "      <th>38760</th>\n",
       "      <td>4471</td>\n",
       "      <td>08-10-2014</td>\n",
       "      <td>sliced cheese</td>\n",
       "    </tr>\n",
       "    <tr>\n",
       "      <th>38761</th>\n",
       "      <td>2022</td>\n",
       "      <td>23-02-2014</td>\n",
       "      <td>candy</td>\n",
       "    </tr>\n",
       "    <tr>\n",
       "      <th>38762</th>\n",
       "      <td>1097</td>\n",
       "      <td>16-04-2014</td>\n",
       "      <td>cake bar</td>\n",
       "    </tr>\n",
       "    <tr>\n",
       "      <th>38763</th>\n",
       "      <td>1510</td>\n",
       "      <td>03-12-2014</td>\n",
       "      <td>fruit/vegetable juice</td>\n",
       "    </tr>\n",
       "    <tr>\n",
       "      <th>38764</th>\n",
       "      <td>1521</td>\n",
       "      <td>26-12-2014</td>\n",
       "      <td>cat food</td>\n",
       "    </tr>\n",
       "  </tbody>\n",
       "</table>\n",
       "<p>38765 rows × 3 columns</p>\n",
       "</div>"
      ],
      "text/plain": [
       "       Member_number        Date        itemDescription\n",
       "0               1808  21-07-2015         tropical fruit\n",
       "1               2552  05-01-2015             whole milk\n",
       "2               2300  19-09-2015              pip fruit\n",
       "3               1187  12-12-2015       other vegetables\n",
       "4               3037  01-02-2015             whole milk\n",
       "...              ...         ...                    ...\n",
       "38760           4471  08-10-2014          sliced cheese\n",
       "38761           2022  23-02-2014                  candy\n",
       "38762           1097  16-04-2014               cake bar\n",
       "38763           1510  03-12-2014  fruit/vegetable juice\n",
       "38764           1521  26-12-2014               cat food\n",
       "\n",
       "[38765 rows x 3 columns]"
      ]
     },
     "execution_count": 5,
     "metadata": {},
     "output_type": "execute_result"
    }
   ],
   "source": [
    "grocery_dataset"
   ]
  },
  {
   "cell_type": "code",
   "execution_count": 6,
   "metadata": {
    "execution": {
     "iopub.execute_input": "2020-11-16T05:10:39.154713Z",
     "iopub.status.busy": "2020-11-16T05:10:39.153882Z",
     "iopub.status.idle": "2020-11-16T05:10:39.166853Z",
     "shell.execute_reply": "2020-11-16T05:10:39.166029Z"
    },
    "papermill": {
     "duration": 0.060329,
     "end_time": "2020-11-16T05:10:39.166986",
     "exception": false,
     "start_time": "2020-11-16T05:10:39.106657",
     "status": "completed"
    },
    "tags": []
   },
   "outputs": [
    {
     "name": "stdout",
     "output_type": "stream",
     "text": [
      "<class 'pandas.core.frame.DataFrame'>\n",
      "RangeIndex: 38765 entries, 0 to 38764\n",
      "Data columns (total 3 columns):\n",
      " #   Column           Non-Null Count  Dtype \n",
      "---  ------           --------------  ----- \n",
      " 0   Member_number    38765 non-null  int64 \n",
      " 1   Date             38765 non-null  object\n",
      " 2   itemDescription  38765 non-null  object\n",
      "dtypes: int64(1), object(2)\n",
      "memory usage: 908.7+ KB\n",
      "None\n"
     ]
    }
   ],
   "source": [
    "print(grocery_dataset.info())"
   ]
  },
  {
   "cell_type": "code",
   "execution_count": 7,
   "metadata": {
    "execution": {
     "iopub.execute_input": "2020-11-16T05:10:39.247763Z",
     "iopub.status.busy": "2020-11-16T05:10:39.246867Z",
     "iopub.status.idle": "2020-11-16T05:10:39.251358Z",
     "shell.execute_reply": "2020-11-16T05:10:39.251887Z"
    },
    "papermill": {
     "duration": 0.051956,
     "end_time": "2020-11-16T05:10:39.252055",
     "exception": false,
     "start_time": "2020-11-16T05:10:39.200099",
     "status": "completed"
    },
    "tags": []
   },
   "outputs": [
    {
     "data": {
      "text/html": [
       "<div>\n",
       "<style scoped>\n",
       "    .dataframe tbody tr th:only-of-type {\n",
       "        vertical-align: middle;\n",
       "    }\n",
       "\n",
       "    .dataframe tbody tr th {\n",
       "        vertical-align: top;\n",
       "    }\n",
       "\n",
       "    .dataframe thead th {\n",
       "        text-align: right;\n",
       "    }\n",
       "</style>\n",
       "<table border=\"1\" class=\"dataframe\">\n",
       "  <thead>\n",
       "    <tr style=\"text-align: right;\">\n",
       "      <th></th>\n",
       "      <th>Member_number</th>\n",
       "      <th>Date</th>\n",
       "      <th>itemDescription</th>\n",
       "    </tr>\n",
       "  </thead>\n",
       "  <tbody>\n",
       "    <tr>\n",
       "      <th>0</th>\n",
       "      <td>1808</td>\n",
       "      <td>21-07-2015</td>\n",
       "      <td>tropical fruit</td>\n",
       "    </tr>\n",
       "    <tr>\n",
       "      <th>1</th>\n",
       "      <td>2552</td>\n",
       "      <td>05-01-2015</td>\n",
       "      <td>whole milk</td>\n",
       "    </tr>\n",
       "    <tr>\n",
       "      <th>2</th>\n",
       "      <td>2300</td>\n",
       "      <td>19-09-2015</td>\n",
       "      <td>pip fruit</td>\n",
       "    </tr>\n",
       "    <tr>\n",
       "      <th>3</th>\n",
       "      <td>1187</td>\n",
       "      <td>12-12-2015</td>\n",
       "      <td>other vegetables</td>\n",
       "    </tr>\n",
       "    <tr>\n",
       "      <th>4</th>\n",
       "      <td>3037</td>\n",
       "      <td>01-02-2015</td>\n",
       "      <td>whole milk</td>\n",
       "    </tr>\n",
       "    <tr>\n",
       "      <th>...</th>\n",
       "      <td>...</td>\n",
       "      <td>...</td>\n",
       "      <td>...</td>\n",
       "    </tr>\n",
       "    <tr>\n",
       "      <th>38760</th>\n",
       "      <td>4471</td>\n",
       "      <td>08-10-2014</td>\n",
       "      <td>sliced cheese</td>\n",
       "    </tr>\n",
       "    <tr>\n",
       "      <th>38761</th>\n",
       "      <td>2022</td>\n",
       "      <td>23-02-2014</td>\n",
       "      <td>candy</td>\n",
       "    </tr>\n",
       "    <tr>\n",
       "      <th>38762</th>\n",
       "      <td>1097</td>\n",
       "      <td>16-04-2014</td>\n",
       "      <td>cake bar</td>\n",
       "    </tr>\n",
       "    <tr>\n",
       "      <th>38763</th>\n",
       "      <td>1510</td>\n",
       "      <td>03-12-2014</td>\n",
       "      <td>fruit/vegetable juice</td>\n",
       "    </tr>\n",
       "    <tr>\n",
       "      <th>38764</th>\n",
       "      <td>1521</td>\n",
       "      <td>26-12-2014</td>\n",
       "      <td>cat food</td>\n",
       "    </tr>\n",
       "  </tbody>\n",
       "</table>\n",
       "<p>38765 rows × 3 columns</p>\n",
       "</div>"
      ],
      "text/plain": [
       "       Member_number        Date        itemDescription\n",
       "0               1808  21-07-2015         tropical fruit\n",
       "1               2552  05-01-2015             whole milk\n",
       "2               2300  19-09-2015              pip fruit\n",
       "3               1187  12-12-2015       other vegetables\n",
       "4               3037  01-02-2015             whole milk\n",
       "...              ...         ...                    ...\n",
       "38760           4471  08-10-2014          sliced cheese\n",
       "38761           2022  23-02-2014                  candy\n",
       "38762           1097  16-04-2014               cake bar\n",
       "38763           1510  03-12-2014  fruit/vegetable juice\n",
       "38764           1521  26-12-2014               cat food\n",
       "\n",
       "[38765 rows x 3 columns]"
      ]
     },
     "execution_count": 7,
     "metadata": {},
     "output_type": "execute_result"
    }
   ],
   "source": [
    "grocery_dataset"
   ]
  },
  {
   "cell_type": "code",
   "execution_count": 8,
   "metadata": {
    "execution": {
     "iopub.execute_input": "2020-11-16T05:10:39.388598Z",
     "iopub.status.busy": "2020-11-16T05:10:39.387773Z",
     "iopub.status.idle": "2020-11-16T05:10:39.424256Z",
     "shell.execute_reply": "2020-11-16T05:10:39.423576Z"
    },
    "papermill": {
     "duration": 0.138312,
     "end_time": "2020-11-16T05:10:39.424387",
     "exception": false,
     "start_time": "2020-11-16T05:10:39.286075",
     "status": "completed"
    },
    "tags": []
   },
   "outputs": [],
   "source": [
    "# Extracting data for grocery items sold in 2015\n",
    "df2015 = grocery_dataset[pd.DatetimeIndex(grocery_dataset['Date']).year==2015].\\\n",
    "groupby(['Date']).size().reset_index(name='count').sort_values('Date',ascending=True)"
   ]
  },
  {
   "cell_type": "code",
   "execution_count": 9,
   "metadata": {
    "execution": {
     "iopub.execute_input": "2020-11-16T05:10:39.505606Z",
     "iopub.status.busy": "2020-11-16T05:10:39.504341Z",
     "iopub.status.idle": "2020-11-16T05:10:39.508236Z",
     "shell.execute_reply": "2020-11-16T05:10:39.508838Z"
    },
    "papermill": {
     "duration": 0.05087,
     "end_time": "2020-11-16T05:10:39.509003",
     "exception": false,
     "start_time": "2020-11-16T05:10:39.458133",
     "status": "completed"
    },
    "tags": []
   },
   "outputs": [
    {
     "data": {
      "text/html": [
       "<div>\n",
       "<style scoped>\n",
       "    .dataframe tbody tr th:only-of-type {\n",
       "        vertical-align: middle;\n",
       "    }\n",
       "\n",
       "    .dataframe tbody tr th {\n",
       "        vertical-align: top;\n",
       "    }\n",
       "\n",
       "    .dataframe thead th {\n",
       "        text-align: right;\n",
       "    }\n",
       "</style>\n",
       "<table border=\"1\" class=\"dataframe\">\n",
       "  <thead>\n",
       "    <tr style=\"text-align: right;\">\n",
       "      <th></th>\n",
       "      <th>Date</th>\n",
       "      <th>count</th>\n",
       "    </tr>\n",
       "  </thead>\n",
       "  <tbody>\n",
       "    <tr>\n",
       "      <th>0</th>\n",
       "      <td>01-01-2015</td>\n",
       "      <td>48</td>\n",
       "    </tr>\n",
       "    <tr>\n",
       "      <th>1</th>\n",
       "      <td>01-02-2015</td>\n",
       "      <td>61</td>\n",
       "    </tr>\n",
       "    <tr>\n",
       "      <th>2</th>\n",
       "      <td>01-03-2015</td>\n",
       "      <td>76</td>\n",
       "    </tr>\n",
       "    <tr>\n",
       "      <th>3</th>\n",
       "      <td>01-04-2015</td>\n",
       "      <td>83</td>\n",
       "    </tr>\n",
       "    <tr>\n",
       "      <th>4</th>\n",
       "      <td>01-05-2015</td>\n",
       "      <td>68</td>\n",
       "    </tr>\n",
       "    <tr>\n",
       "      <th>...</th>\n",
       "      <td>...</td>\n",
       "      <td>...</td>\n",
       "    </tr>\n",
       "    <tr>\n",
       "      <th>359</th>\n",
       "      <td>31-03-2015</td>\n",
       "      <td>54</td>\n",
       "    </tr>\n",
       "    <tr>\n",
       "      <th>360</th>\n",
       "      <td>31-05-2015</td>\n",
       "      <td>47</td>\n",
       "    </tr>\n",
       "    <tr>\n",
       "      <th>361</th>\n",
       "      <td>31-07-2015</td>\n",
       "      <td>63</td>\n",
       "    </tr>\n",
       "    <tr>\n",
       "      <th>362</th>\n",
       "      <td>31-08-2015</td>\n",
       "      <td>47</td>\n",
       "    </tr>\n",
       "    <tr>\n",
       "      <th>363</th>\n",
       "      <td>31-10-2015</td>\n",
       "      <td>46</td>\n",
       "    </tr>\n",
       "  </tbody>\n",
       "</table>\n",
       "<p>364 rows × 2 columns</p>\n",
       "</div>"
      ],
      "text/plain": [
       "           Date  count\n",
       "0    01-01-2015     48\n",
       "1    01-02-2015     61\n",
       "2    01-03-2015     76\n",
       "3    01-04-2015     83\n",
       "4    01-05-2015     68\n",
       "..          ...    ...\n",
       "359  31-03-2015     54\n",
       "360  31-05-2015     47\n",
       "361  31-07-2015     63\n",
       "362  31-08-2015     47\n",
       "363  31-10-2015     46\n",
       "\n",
       "[364 rows x 2 columns]"
      ]
     },
     "execution_count": 9,
     "metadata": {},
     "output_type": "execute_result"
    }
   ],
   "source": [
    "df2015"
   ]
  },
  {
   "cell_type": "code",
   "execution_count": 10,
   "metadata": {
    "execution": {
     "iopub.execute_input": "2020-11-16T05:10:39.586334Z",
     "iopub.status.busy": "2020-11-16T05:10:39.585505Z",
     "iopub.status.idle": "2020-11-16T05:10:39.962590Z",
     "shell.execute_reply": "2020-11-16T05:10:39.961970Z"
    },
    "papermill": {
     "duration": 0.419193,
     "end_time": "2020-11-16T05:10:39.962721",
     "exception": false,
     "start_time": "2020-11-16T05:10:39.543528",
     "status": "completed"
    },
    "tags": []
   },
   "outputs": [
    {
     "data": {
      "text/plain": [
       "<Figure size 1080x720 with 0 Axes>"
      ]
     },
     "metadata": {},
     "output_type": "display_data"
    },
    {
     "data": {
      "image/png": "[encoded data removed]",
      "text/plain": [
       "<Figure size 900x122.4 with 2 Axes>"
      ]
     },
     "metadata": {
      "needs_background": "light"
     },
     "output_type": "display_data"
    }
   ],
   "source": [
    "# Visualizing the number of distribution of grocery items sold in 2015\n",
    "plt.figure(figsize=(15,10))\n",
    "df2015['Date'] = pd.DatetimeIndex(df2015['Date'])\n",
    "df2015.set_index(\"Date\", inplace = True,drop = True)\n",
    "events = df2015[\"count\"]\n",
    "calplot.calplot(events,cmap='YlGn')\n",
    "plt.title('Distribution of no. of items sold in the year 2015',fontsize=15)\n",
    "plt.show()"
   ]
  },
  {
   "cell_type": "code",
   "execution_count": 11,
   "metadata": {
    "execution": {
     "iopub.execute_input": "2020-11-16T05:10:40.105533Z",
     "iopub.status.busy": "2020-11-16T05:10:40.104734Z",
     "iopub.status.idle": "2020-11-16T05:10:40.121396Z",
     "shell.execute_reply": "2020-11-16T05:10:40.120583Z"
    },
    "papermill": {
     "duration": 0.122659,
     "end_time": "2020-11-16T05:10:40.121528",
     "exception": false,
     "start_time": "2020-11-16T05:10:39.998869",
     "status": "completed"
    },
    "tags": []
   },
   "outputs": [],
   "source": [
    "# Extracting data for grocery items sold in 2014\n",
    "df2014 = grocery_dataset[pd.DatetimeIndex(grocery_dataset['Date']).year==2014].\\\n",
    "groupby(['Date']).size().reset_index(name='count').sort_values('Date',ascending=True)"
   ]
  },
  {
   "cell_type": "code",
   "execution_count": 12,
   "metadata": {
    "execution": {
     "iopub.execute_input": "2020-11-16T05:10:40.208803Z",
     "iopub.status.busy": "2020-11-16T05:10:40.207849Z",
     "iopub.status.idle": "2020-11-16T05:10:40.212538Z",
     "shell.execute_reply": "2020-11-16T05:10:40.213179Z"
    },
    "papermill": {
     "duration": 0.055341,
     "end_time": "2020-11-16T05:10:40.213364",
     "exception": false,
     "start_time": "2020-11-16T05:10:40.158023",
     "status": "completed"
    },
    "tags": []
   },
   "outputs": [
    {
     "data": {
      "text/html": [
       "<div>\n",
       "<style scoped>\n",
       "    .dataframe tbody tr th:only-of-type {\n",
       "        vertical-align: middle;\n",
       "    }\n",
       "\n",
       "    .dataframe tbody tr th {\n",
       "        vertical-align: top;\n",
       "    }\n",
       "\n",
       "    .dataframe thead th {\n",
       "        text-align: right;\n",
       "    }\n",
       "</style>\n",
       "<table border=\"1\" class=\"dataframe\">\n",
       "  <thead>\n",
       "    <tr style=\"text-align: right;\">\n",
       "      <th></th>\n",
       "      <th>Date</th>\n",
       "      <th>count</th>\n",
       "    </tr>\n",
       "  </thead>\n",
       "  <tbody>\n",
       "    <tr>\n",
       "      <th>0</th>\n",
       "      <td>01-01-2014</td>\n",
       "      <td>48</td>\n",
       "    </tr>\n",
       "    <tr>\n",
       "      <th>1</th>\n",
       "      <td>01-02-2014</td>\n",
       "      <td>62</td>\n",
       "    </tr>\n",
       "    <tr>\n",
       "      <th>2</th>\n",
       "      <td>01-03-2014</td>\n",
       "      <td>54</td>\n",
       "    </tr>\n",
       "    <tr>\n",
       "      <th>3</th>\n",
       "      <td>01-04-2014</td>\n",
       "      <td>64</td>\n",
       "    </tr>\n",
       "    <tr>\n",
       "      <th>4</th>\n",
       "      <td>01-05-2014</td>\n",
       "      <td>44</td>\n",
       "    </tr>\n",
       "    <tr>\n",
       "      <th>...</th>\n",
       "      <td>...</td>\n",
       "      <td>...</td>\n",
       "    </tr>\n",
       "    <tr>\n",
       "      <th>359</th>\n",
       "      <td>31-03-2014</td>\n",
       "      <td>46</td>\n",
       "    </tr>\n",
       "    <tr>\n",
       "      <th>360</th>\n",
       "      <td>31-05-2014</td>\n",
       "      <td>75</td>\n",
       "    </tr>\n",
       "    <tr>\n",
       "      <th>361</th>\n",
       "      <td>31-07-2014</td>\n",
       "      <td>57</td>\n",
       "    </tr>\n",
       "    <tr>\n",
       "      <th>362</th>\n",
       "      <td>31-08-2014</td>\n",
       "      <td>47</td>\n",
       "    </tr>\n",
       "    <tr>\n",
       "      <th>363</th>\n",
       "      <td>31-10-2014</td>\n",
       "      <td>57</td>\n",
       "    </tr>\n",
       "  </tbody>\n",
       "</table>\n",
       "<p>364 rows × 2 columns</p>\n",
       "</div>"
      ],
      "text/plain": [
       "           Date  count\n",
       "0    01-01-2014     48\n",
       "1    01-02-2014     62\n",
       "2    01-03-2014     54\n",
       "3    01-04-2014     64\n",
       "4    01-05-2014     44\n",
       "..          ...    ...\n",
       "359  31-03-2014     46\n",
       "360  31-05-2014     75\n",
       "361  31-07-2014     57\n",
       "362  31-08-2014     47\n",
       "363  31-10-2014     57\n",
       "\n",
       "[364 rows x 2 columns]"
      ]
     },
     "execution_count": 12,
     "metadata": {},
     "output_type": "execute_result"
    }
   ],
   "source": [
    "df2014"
   ]
  },
  {
   "cell_type": "code",
   "execution_count": 13,
   "metadata": {
    "execution": {
     "iopub.execute_input": "2020-11-16T05:10:40.299998Z",
     "iopub.status.busy": "2020-11-16T05:10:40.296347Z",
     "iopub.status.idle": "2020-11-16T05:10:40.538721Z",
     "shell.execute_reply": "2020-11-16T05:10:40.537888Z"
    },
    "papermill": {
     "duration": 0.287563,
     "end_time": "2020-11-16T05:10:40.538856",
     "exception": false,
     "start_time": "2020-11-16T05:10:40.251293",
     "status": "completed"
    },
    "tags": []
   },
   "outputs": [
    {
     "data": {
      "text/plain": [
       "<Figure size 1080x720 with 0 Axes>"
      ]
     },
     "metadata": {},
     "output_type": "display_data"
    },
    {
     "data": {
      "image/png": "[encoded data removed]",
      "text/plain": [
       "<Figure size 900x122.4 with 2 Axes>"
      ]
     },
     "metadata": {
      "needs_background": "light"
     },
     "output_type": "display_data"
    }
   ],
   "source": [
    "# Visualizing the number of distribution of grocery items sold in 2014\n",
    "plt.figure(figsize=(15,10))\n",
    "df2014['Date'] = pd.DatetimeIndex(df2014['Date'])\n",
    "df2014.set_index(\"Date\", inplace = True,drop = True)\n",
    "events = df2014[\"count\"]\n",
    "calplot.calplot(events,cmap='YlGn')\n",
    "plt.title('Distribution of no. of items sold in the year 2014',fontsize=15)\n",
    "plt.show()"
   ]
  },
  {
   "cell_type": "code",
   "execution_count": 14,
   "metadata": {
    "execution": {
     "iopub.execute_input": "2020-11-16T05:10:40.626113Z",
     "iopub.status.busy": "2020-11-16T05:10:40.625347Z",
     "iopub.status.idle": "2020-11-16T05:10:40.633445Z",
     "shell.execute_reply": "2020-11-16T05:10:40.632772Z"
    },
    "papermill": {
     "duration": 0.055671,
     "end_time": "2020-11-16T05:10:40.633587",
     "exception": false,
     "start_time": "2020-11-16T05:10:40.577916",
     "status": "completed"
    },
    "tags": []
   },
   "outputs": [],
   "source": [
    "df = grocery_dataset.groupby(['itemDescription']).size().reset_index(name='count')"
   ]
  },
  {
   "cell_type": "code",
   "execution_count": 15,
   "metadata": {
    "execution": {
     "iopub.execute_input": "2020-11-16T05:10:40.722430Z",
     "iopub.status.busy": "2020-11-16T05:10:40.721624Z",
     "iopub.status.idle": "2020-11-16T05:10:41.939285Z",
     "shell.execute_reply": "2020-11-16T05:10:41.939889Z"
    },
    "papermill": {
     "duration": 1.266553,
     "end_time": "2020-11-16T05:10:41.940053",
     "exception": false,
     "start_time": "2020-11-16T05:10:40.673500",
     "status": "completed"
    },
    "tags": []
   },
   "outputs": [
    {
     "data": {
      "text/html": [
       "        <script type=\"text/javascript\">\n",
       "        window.PlotlyConfig = {MathJaxConfig: 'local'};\n",
       "        if (window.MathJax) {MathJax.Hub.Config({SVG: {font: \"STIX-Web\"}});}\n",
       "        if (typeof require !== 'undefined') {\n",
       "        require.undef(\"plotly\");\n",
       "        requirejs.config({\n",
       "            paths: {\n",
       "                'plotly': ['https://cdn.plot.ly/plotly-latest.min']\n",
       "            }\n",
       "        });\n",
       "        require(['plotly'], function(Plotly) {\n",
       "            window._Plotly = Plotly;\n",
       "        });\n",
       "        }\n",
       "        </script>\n",
       "        "
      ]
     },
     "metadata": {},
     "output_type": "display_data"
    },
    {
     "data": {
      "text/html": [
       "<div>                            <div id=\"a6459ba0-1055-4a56-9500-7dff230a644a\" class=\"plotly-graph-div\" style=\"height:525px; width:100%;\"></div>            <script type=\"text/javascript\">                require([\"plotly\"], function(Plotly) {                    window.PLOTLYENV=window.PLOTLYENV || {};                                    if (document.getElementById(\"a6459ba0-1055-4a56-9500-7dff230a644a\")) {                    Plotly.newPlot(                        \"a6459ba0-1055-4a56-9500-7dff230a644a\",                        [{\"domain\": {\"x\": [0.0, 1.0], \"y\": [0.0, 1.0]}, \"hovertemplate\": \"itemDescription=%{label}<br>count=%{value}<extra></extra>\", \"labels\": [\"Other items\", \"Other items\", \"Other items\", \"Other items\", \"Other items\", \"Other items\", \"Other items\", \"Other items\", \"beef\", \"Other items\", \"Other items\", \"bottled beer\", \"bottled water\", \"Other items\", \"brown bread\", \"butter\", \"Other items\", \"Other items\", \"Other items\", \"Other items\", \"canned beer\", \"Other items\", \"Other items\", \"Other items\", \"Other items\", \"Other items\", \"Other items\", \"Other items\", \"Other items\", \"Other items\", \"citrus fruit\", \"Other items\", \"Other items\", \"Other items\", \"Other items\", \"Other items\", \"Other items\", \"Other items\", \"Other items\", \"Other items\", \"curd\", \"Other items\", \"Other items\", \"Other items\", \"Other items\", \"Other items\", \"Other items\", \"Other items\", \"Other items\", \"domestic eggs\", \"Other items\", \"Other items\", \"Other items\", \"Other items\", \"Other items\", \"Other items\", \"frankfurter\", \"Other items\", \"Other items\", \"Other items\", \"Other items\", \"Other items\", \"Other items\", \"Other items\", \"fruit/vegetable juice\", \"Other items\", \"Other items\", \"Other items\", \"Other items\", \"Other items\", \"Other items\", \"Other items\", \"Other items\", \"Other items\", \"Other items\", \"Other items\", \"Other items\", \"Other items\", \"Other items\", \"Other items\", \"Other items\", \"Other items\", \"Other items\", \"Other items\", \"Other items\", \"Other items\", \"Other items\", \"Other items\", \"Other items\", \"Other items\", \"Other items\", \"Other items\", \"Other items\", \"Other items\", \"Other items\", \"newspapers\", \"Other items\", \"Other items\", \"Other items\", \"Other items\", \"Other items\", \"Other items\", \"other vegetables\", \"Other items\", \"Other items\", \"pastry\", \"Other items\", \"Other items\", \"Other items\", \"pip fruit\", \"Other items\", \"pork\", \"Other items\", \"Other items\", \"Other items\", \"Other items\", \"Other items\", \"Other items\", \"Other items\", \"Other items\", \"Other items\", \"Other items\", \"rolls/buns\", \"root vegetables\", \"Other items\", \"Other items\", \"Other items\", \"Other items\", \"Other items\", \"Other items\", \"sausage\", \"Other items\", \"Other items\", \"shopping bags\", \"Other items\", \"Other items\", \"Other items\", \"Other items\", \"soda\", \"Other items\", \"Other items\", \"Other items\", \"Other items\", \"Other items\", \"Other items\", \"Other items\", \"Other items\", \"Other items\", \"Other items\", \"Other items\", \"Other items\", \"Other items\", \"Other items\", \"Other items\", \"Other items\", \"Other items\", \"tropical fruit\", \"Other items\", \"Other items\", \"Other items\", \"whipped/sour cream\", \"Other items\", \"Other items\", \"Other items\", \"whole milk\", \"yogurt\", \"Other items\"], \"legendgroup\": \"\", \"name\": \"\", \"showlegend\": true, \"type\": \"pie\", \"values\": [60, 323, 22, 29, 3, 4, 122, 17, 516, 327, 251, 687, 933, 38, 571, 534, 263, 93, 66, 219, 717, 116, 21, 82, 177, 42, 181, 422, 357, 60, 812, 31, 74, 16, 476, 98, 15, 17, 12, 358, 514, 46, 9, 33, 356, 130, 73, 135, 67, 566, 40, 64, 29, 146, 70, 16, 580, 5, 92, 102, 11, 252, 72, 425, 518, 220, 9, 256, 327, 220, 159, 13, 45, 208, 227, 61, 34, 32, 30, 1, 29, 9, 103, 67, 50, 269, 5, 37, 491, 75, 254, 35, 238, 92, 335, 596, 22, 33, 225, 305, 10, 22, 1898, 128, 121, 785, 85, 79, 134, 744, 48, 566, 118, 23, 1, 152, 19, 17, 15, 157, 49, 82, 1716, 1071, 5, 32, 6, 89, 283, 44, 924, 106, 142, 731, 20, 212, 27, 20, 1514, 152, 41, 48, 46, 210, 72, 240, 29, 11, 40, 100, 265, 69, 21, 27, 22, 5, 1032, 80, 51, 280, 662, 8, 362, 176, 2502, 1334, 60]}],                        {\"legend\": {\"tracegroupgap\": 0}, \"template\": {\"data\": {\"bar\": [{\"error_x\": {\"color\": \"#2a3f5f\"}, \"error_y\": {\"color\": \"#2a3f5f\"}, \"marker\": {\"line\": {\"color\": \"#E5ECF6\", \"width\": 0.5}}, \"type\": \"bar\"}], \"barpolar\": [{\"marker\": {\"line\": {\"color\": \"#E5ECF6\", \"width\": 0.5}}, \"type\": \"barpolar\"}], \"carpet\": [{\"aaxis\": {\"endlinecolor\": \"#2a3f5f\", \"gridcolor\": \"white\", \"linecolor\": \"white\", \"minorgridcolor\": \"white\", \"startlinecolor\": \"#2a3f5f\"}, \"baxis\": {\"endlinecolor\": \"#2a3f5f\", \"gridcolor\": \"white\", \"linecolor\": \"white\", \"minorgridcolor\": \"white\", \"startlinecolor\": \"#2a3f5f\"}, \"type\": \"carpet\"}], \"choropleth\": [{\"colorbar\": {\"outlinewidth\": 0, \"ticks\": \"\"}, \"type\": \"choropleth\"}], \"contour\": [{\"colorbar\": {\"outlinewidth\": 0, \"ticks\": \"\"}, \"colorscale\": [[0.0, \"#0d0887\"], [0.1111111111111111, \"#46039f\"], [0.2222222222222222, \"#7201a8\"], [0.3333333333333333, \"#9c179e\"], [0.4444444444444444, \"#bd3786\"], [0.5555555555555556, \"#d8576b\"], [0.6666666666666666, \"#ed7953\"], [0.7777777777777778, \"#fb9f3a\"], [0.8888888888888888, \"#fdca26\"], [1.0, \"#f0f921\"]], \"type\": \"contour\"}], \"contourcarpet\": [{\"colorbar\": {\"outlinewidth\": 0, \"ticks\": \"\"}, \"type\": \"contourcarpet\"}], \"heatmap\": [{\"colorbar\": {\"outlinewidth\": 0, \"ticks\": \"\"}, \"colorscale\": [[0.0, \"#0d0887\"], [0.1111111111111111, \"#46039f\"], [0.2222222222222222, \"#7201a8\"], [0.3333333333333333, \"#9c179e\"], [0.4444444444444444, \"#bd3786\"], [0.5555555555555556, \"#d8576b\"], [0.6666666666666666, \"#ed7953\"], [0.7777777777777778, \"#fb9f3a\"], [0.8888888888888888, \"#fdca26\"], [1.0, \"#f0f921\"]], \"type\": \"heatmap\"}], \"heatmapgl\": [{\"colorbar\": {\"outlinewidth\": 0, \"ticks\": \"\"}, \"colorscale\": [[0.0, \"#0d0887\"], [0.1111111111111111, \"#46039f\"], [0.2222222222222222, \"#7201a8\"], [0.3333333333333333, \"#9c179e\"], [0.4444444444444444, \"#bd3786\"], [0.5555555555555556, \"#d8576b\"], [0.6666666666666666, \"#ed7953\"], [0.7777777777777778, \"#fb9f3a\"], [0.8888888888888888, \"#fdca26\"], [1.0, \"#f0f921\"]], \"type\": \"heatmapgl\"}], \"histogram\": [{\"marker\": {\"colorbar\": {\"outlinewidth\": 0, \"ticks\": \"\"}}, \"type\": \"histogram\"}], \"histogram2d\": [{\"colorbar\": {\"outlinewidth\": 0, \"ticks\": \"\"}, \"colorscale\": [[0.0, \"#0d0887\"], [0.1111111111111111, \"#46039f\"], [0.2222222222222222, \"#7201a8\"], [0.3333333333333333, \"#9c179e\"], [0.4444444444444444, \"#bd3786\"], [0.5555555555555556, \"#d8576b\"], [0.6666666666666666, \"#ed7953\"], [0.7777777777777778, \"#fb9f3a\"], [0.8888888888888888, \"#fdca26\"], [1.0, \"#f0f921\"]], \"type\": \"histogram2d\"}], \"histogram2dcontour\": [{\"colorbar\": {\"outlinewidth\": 0, \"ticks\": \"\"}, \"colorscale\": [[0.0, \"#0d0887\"], [0.1111111111111111, \"#46039f\"], [0.2222222222222222, \"#7201a8\"], [0.3333333333333333, \"#9c179e\"], [0.4444444444444444, \"#bd3786\"], [0.5555555555555556, \"#d8576b\"], [0.6666666666666666, \"#ed7953\"], [0.7777777777777778, \"#fb9f3a\"], [0.8888888888888888, \"#fdca26\"], [1.0, \"#f0f921\"]], \"type\": \"histogram2dcontour\"}], \"mesh3d\": [{\"colorbar\": {\"outlinewidth\": 0, \"ticks\": \"\"}, \"type\": \"mesh3d\"}], \"parcoords\": [{\"line\": {\"colorbar\": {\"outlinewidth\": 0, \"ticks\": \"\"}}, \"type\": \"parcoords\"}], \"pie\": [{\"automargin\": true, \"type\": \"pie\"}], \"scatter\": [{\"marker\": {\"colorbar\": {\"outlinewidth\": 0, \"ticks\": \"\"}}, \"type\": \"scatter\"}], \"scatter3d\": [{\"line\": {\"colorbar\": {\"outlinewidth\": 0, \"ticks\": \"\"}}, \"marker\": {\"colorbar\": {\"outlinewidth\": 0, \"ticks\": \"\"}}, \"type\": \"scatter3d\"}], \"scattercarpet\": [{\"marker\": {\"colorbar\": {\"outlinewidth\": 0, \"ticks\": \"\"}}, \"type\": \"scattercarpet\"}], \"scattergeo\": [{\"marker\": {\"colorbar\": {\"outlinewidth\": 0, \"ticks\": \"\"}}, \"type\": \"scattergeo\"}], \"scattergl\": [{\"marker\": {\"colorbar\": {\"outlinewidth\": 0, \"ticks\": \"\"}}, \"type\": \"scattergl\"}], \"scattermapbox\": [{\"marker\": {\"colorbar\": {\"outlinewidth\": 0, \"ticks\": \"\"}}, \"type\": \"scattermapbox\"}], \"scatterpolar\": [{\"marker\": {\"colorbar\": {\"outlinewidth\": 0, \"ticks\": \"\"}}, \"type\": \"scatterpolar\"}], \"scatterpolargl\": [{\"marker\": {\"colorbar\": {\"outlinewidth\": 0, \"ticks\": \"\"}}, \"type\": \"scatterpolargl\"}], \"scatterternary\": [{\"marker\": {\"colorbar\": {\"outlinewidth\": 0, \"ticks\": \"\"}}, \"type\": \"scatterternary\"}], \"surface\": [{\"colorbar\": {\"outlinewidth\": 0, \"ticks\": \"\"}, \"colorscale\": [[0.0, \"#0d0887\"], [0.1111111111111111, \"#46039f\"], [0.2222222222222222, \"#7201a8\"], [0.3333333333333333, \"#9c179e\"], [0.4444444444444444, \"#bd3786\"], [0.5555555555555556, \"#d8576b\"], [0.6666666666666666, \"#ed7953\"], [0.7777777777777778, \"#fb9f3a\"], [0.8888888888888888, \"#fdca26\"], [1.0, \"#f0f921\"]], \"type\": \"surface\"}], \"table\": [{\"cells\": {\"fill\": {\"color\": \"#EBF0F8\"}, \"line\": {\"color\": \"white\"}}, \"header\": {\"fill\": {\"color\": \"#C8D4E3\"}, \"line\": {\"color\": \"white\"}}, \"type\": \"table\"}]}, \"layout\": {\"annotationdefaults\": {\"arrowcolor\": \"#2a3f5f\", \"arrowhead\": 0, \"arrowwidth\": 1}, \"coloraxis\": {\"colorbar\": {\"outlinewidth\": 0, \"ticks\": \"\"}}, \"colorscale\": {\"diverging\": [[0, \"#8e0152\"], [0.1, \"#c51b7d\"], [0.2, \"#de77ae\"], [0.3, \"#f1b6da\"], [0.4, \"#fde0ef\"], [0.5, \"#f7f7f7\"], [0.6, \"#e6f5d0\"], [0.7, \"#b8e186\"], [0.8, \"#7fbc41\"], [0.9, \"#4d9221\"], [1, \"#276419\"]], \"sequential\": [[0.0, \"#0d0887\"], [0.1111111111111111, \"#46039f\"], [0.2222222222222222, \"#7201a8\"], [0.3333333333333333, \"#9c179e\"], [0.4444444444444444, \"#bd3786\"], [0.5555555555555556, \"#d8576b\"], [0.6666666666666666, \"#ed7953\"], [0.7777777777777778, \"#fb9f3a\"], [0.8888888888888888, \"#fdca26\"], [1.0, \"#f0f921\"]], \"sequentialminus\": [[0.0, \"#0d0887\"], [0.1111111111111111, \"#46039f\"], [0.2222222222222222, \"#7201a8\"], [0.3333333333333333, \"#9c179e\"], [0.4444444444444444, \"#bd3786\"], [0.5555555555555556, \"#d8576b\"], [0.6666666666666666, \"#ed7953\"], [0.7777777777777778, \"#fb9f3a\"], [0.8888888888888888, \"#fdca26\"], [1.0, \"#f0f921\"]]}, \"colorway\": [\"#636efa\", \"#EF553B\", \"#00cc96\", \"#ab63fa\", \"#FFA15A\", \"#19d3f3\", \"#FF6692\", \"#B6E880\", \"#FF97FF\", \"#FECB52\"], \"font\": {\"color\": \"#2a3f5f\"}, \"geo\": {\"bgcolor\": \"white\", \"lakecolor\": \"white\", \"landcolor\": \"#E5ECF6\", \"showlakes\": true, \"showland\": true, \"subunitcolor\": \"white\"}, \"hoverlabel\": {\"align\": \"left\"}, \"hovermode\": \"closest\", \"mapbox\": {\"style\": \"light\"}, \"paper_bgcolor\": \"white\", \"plot_bgcolor\": \"#E5ECF6\", \"polar\": {\"angularaxis\": {\"gridcolor\": \"white\", \"linecolor\": \"white\", \"ticks\": \"\"}, \"bgcolor\": \"#E5ECF6\", \"radialaxis\": {\"gridcolor\": \"white\", \"linecolor\": \"white\", \"ticks\": \"\"}}, \"scene\": {\"xaxis\": {\"backgroundcolor\": \"#E5ECF6\", \"gridcolor\": \"white\", \"gridwidth\": 2, \"linecolor\": \"white\", \"showbackground\": true, \"ticks\": \"\", \"zerolinecolor\": \"white\"}, \"yaxis\": {\"backgroundcolor\": \"#E5ECF6\", \"gridcolor\": \"white\", \"gridwidth\": 2, \"linecolor\": \"white\", \"showbackground\": true, \"ticks\": \"\", \"zerolinecolor\": \"white\"}, \"zaxis\": {\"backgroundcolor\": \"#E5ECF6\", \"gridcolor\": \"white\", \"gridwidth\": 2, \"linecolor\": \"white\", \"showbackground\": true, \"ticks\": \"\", \"zerolinecolor\": \"white\"}}, \"shapedefaults\": {\"line\": {\"color\": \"#2a3f5f\"}}, \"ternary\": {\"aaxis\": {\"gridcolor\": \"white\", \"linecolor\": \"white\", \"ticks\": \"\"}, \"baxis\": {\"gridcolor\": \"white\", \"linecolor\": \"white\", \"ticks\": \"\"}, \"bgcolor\": \"#E5ECF6\", \"caxis\": {\"gridcolor\": \"white\", \"linecolor\": \"white\", \"ticks\": \"\"}}, \"title\": {\"x\": 0.05}, \"xaxis\": {\"automargin\": true, \"gridcolor\": \"white\", \"linecolor\": \"white\", \"ticks\": \"\", \"title\": {\"standoff\": 15}, \"zerolinecolor\": \"white\", \"zerolinewidth\": 2}, \"yaxis\": {\"automargin\": true, \"gridcolor\": \"white\", \"linecolor\": \"white\", \"ticks\": \"\", \"title\": {\"standoff\": 15}, \"zerolinecolor\": \"white\", \"zerolinewidth\": 2}}}, \"title\": {\"text\": \"Distribution of items sold during 2014-15\"}},                        {\"responsive\": true}                    ).then(function(){\n",
       "                            \n",
       "var gd = document.getElementById('a6459ba0-1055-4a56-9500-7dff230a644a');\n",
       "var x = new MutationObserver(function (mutations, observer) {{\n",
       "        var display = window.getComputedStyle(gd).display;\n",
       "        if (!display || display === 'none') {{\n",
       "            console.log([gd, 'removed!']);\n",
       "            Plotly.purge(gd);\n",
       "            observer.disconnect();\n",
       "        }}\n",
       "}});\n",
       "\n",
       "// Listen for the removal of the full notebook cells\n",
       "var notebookContainer = gd.closest('#notebook-container');\n",
       "if (notebookContainer) {{\n",
       "    x.observe(notebookContainer, {childList: true});\n",
       "}}\n",
       "\n",
       "// Listen for the clearing of the current output cell\n",
       "var outputEl = gd.closest('.output');\n",
       "if (outputEl) {{\n",
       "    x.observe(outputEl, {childList: true});\n",
       "}}\n",
       "\n",
       "                        })                };                });            </script>        </div>"
      ]
     },
     "metadata": {},
     "output_type": "display_data"
    }
   ],
   "source": [
    "# Visualizing the distribution of items sold during 2014-15\n",
    "df.loc[df['count'] < 500, 'itemDescription'] = 'Other items'\n",
    "fig = px.pie(df, values='count',names = 'itemDescription',title='Distribution of items sold during 2014-15')\n",
    "fig.show()"
   ]
  },
  {
   "cell_type": "code",
   "execution_count": 16,
   "metadata": {
    "execution": {
     "iopub.execute_input": "2020-11-16T05:10:42.033558Z",
     "iopub.status.busy": "2020-11-16T05:10:42.032759Z",
     "iopub.status.idle": "2020-11-16T05:10:42.059709Z",
     "shell.execute_reply": "2020-11-16T05:10:42.058913Z"
    },
    "papermill": {
     "duration": 0.078497,
     "end_time": "2020-11-16T05:10:42.059842",
     "exception": false,
     "start_time": "2020-11-16T05:10:41.981345",
     "status": "completed"
    },
    "tags": []
   },
   "outputs": [],
   "source": [
    "grocery_df = grocery_dataset.groupby('Date').agg({'itemDescription':','.join})"
   ]
  },
  {
   "cell_type": "code",
   "execution_count": 17,
   "metadata": {
    "execution": {
     "iopub.execute_input": "2020-11-16T05:10:42.156962Z",
     "iopub.status.busy": "2020-11-16T05:10:42.155981Z",
     "iopub.status.idle": "2020-11-16T05:10:42.161511Z",
     "shell.execute_reply": "2020-11-16T05:10:42.160767Z"
    },
    "papermill": {
     "duration": 0.059301,
     "end_time": "2020-11-16T05:10:42.161645",
     "exception": false,
     "start_time": "2020-11-16T05:10:42.102344",
     "status": "completed"
    },
    "tags": []
   },
   "outputs": [
    {
     "data": {
      "text/html": [
       "<div>\n",
       "<style scoped>\n",
       "    .dataframe tbody tr th:only-of-type {\n",
       "        vertical-align: middle;\n",
       "    }\n",
       "\n",
       "    .dataframe tbody tr th {\n",
       "        vertical-align: top;\n",
       "    }\n",
       "\n",
       "    .dataframe thead th {\n",
       "        text-align: right;\n",
       "    }\n",
       "</style>\n",
       "<table border=\"1\" class=\"dataframe\">\n",
       "  <thead>\n",
       "    <tr style=\"text-align: right;\">\n",
       "      <th></th>\n",
       "      <th>itemDescription</th>\n",
       "    </tr>\n",
       "    <tr>\n",
       "      <th>Date</th>\n",
       "      <th></th>\n",
       "    </tr>\n",
       "  </thead>\n",
       "  <tbody>\n",
       "    <tr>\n",
       "      <th>01-01-2014</th>\n",
       "      <td>cleaner,sausage,tropical fruit,whole milk,citr...</td>\n",
       "    </tr>\n",
       "    <tr>\n",
       "      <th>01-01-2015</th>\n",
       "      <td>canned beer,frozen meals,butter,ham,citrus fru...</td>\n",
       "    </tr>\n",
       "    <tr>\n",
       "      <th>01-02-2014</th>\n",
       "      <td>other vegetables,pip fruit,frankfurter,sugar,o...</td>\n",
       "    </tr>\n",
       "    <tr>\n",
       "      <th>01-02-2015</th>\n",
       "      <td>whole milk,canned beer,bottled water,soda,whol...</td>\n",
       "    </tr>\n",
       "    <tr>\n",
       "      <th>01-03-2014</th>\n",
       "      <td>sausage,meat,sugar,sausage,bottled beer,whole ...</td>\n",
       "    </tr>\n",
       "    <tr>\n",
       "      <th>...</th>\n",
       "      <td>...</td>\n",
       "    </tr>\n",
       "    <tr>\n",
       "      <th>31-07-2015</th>\n",
       "      <td>vinegar,chicken,root vegetables,chicken,sausag...</td>\n",
       "    </tr>\n",
       "    <tr>\n",
       "      <th>31-08-2014</th>\n",
       "      <td>pork,other vegetables,beef,whole milk,hygiene ...</td>\n",
       "    </tr>\n",
       "    <tr>\n",
       "      <th>31-08-2015</th>\n",
       "      <td>brown bread,frankfurter,chicken,citrus fruit,b...</td>\n",
       "    </tr>\n",
       "    <tr>\n",
       "      <th>31-10-2014</th>\n",
       "      <td>yogurt,frankfurter,other vegetables,salty snac...</td>\n",
       "    </tr>\n",
       "    <tr>\n",
       "      <th>31-10-2015</th>\n",
       "      <td>chicken,canned beer,frozen vegetables,beef,can...</td>\n",
       "    </tr>\n",
       "  </tbody>\n",
       "</table>\n",
       "<p>728 rows × 1 columns</p>\n",
       "</div>"
      ],
      "text/plain": [
       "                                              itemDescription\n",
       "Date                                                         \n",
       "01-01-2014  cleaner,sausage,tropical fruit,whole milk,citr...\n",
       "01-01-2015  canned beer,frozen meals,butter,ham,citrus fru...\n",
       "01-02-2014  other vegetables,pip fruit,frankfurter,sugar,o...\n",
       "01-02-2015  whole milk,canned beer,bottled water,soda,whol...\n",
       "01-03-2014  sausage,meat,sugar,sausage,bottled beer,whole ...\n",
       "...                                                       ...\n",
       "31-07-2015  vinegar,chicken,root vegetables,chicken,sausag...\n",
       "31-08-2014  pork,other vegetables,beef,whole milk,hygiene ...\n",
       "31-08-2015  brown bread,frankfurter,chicken,citrus fruit,b...\n",
       "31-10-2014  yogurt,frankfurter,other vegetables,salty snac...\n",
       "31-10-2015  chicken,canned beer,frozen vegetables,beef,can...\n",
       "\n",
       "[728 rows x 1 columns]"
      ]
     },
     "execution_count": 17,
     "metadata": {},
     "output_type": "execute_result"
    }
   ],
   "source": [
    "grocery_df"
   ]
  },
  {
   "cell_type": "code",
   "execution_count": 18,
   "metadata": {
    "execution": {
     "iopub.execute_input": "2020-11-16T05:10:42.260080Z",
     "iopub.status.busy": "2020-11-16T05:10:42.258901Z",
     "iopub.status.idle": "2020-11-16T05:10:42.261777Z",
     "shell.execute_reply": "2020-11-16T05:10:42.262434Z"
    },
    "papermill": {
     "duration": 0.058509,
     "end_time": "2020-11-16T05:10:42.262616",
     "exception": false,
     "start_time": "2020-11-16T05:10:42.204107",
     "status": "completed"
    },
    "tags": []
   },
   "outputs": [],
   "source": [
    "grocery_df['itemDescription'] = grocery_df['itemDescription'].str.split(',')"
   ]
  },
  {
   "cell_type": "markdown",
   "metadata": {
    "papermill": {
     "duration": 0.041063,
     "end_time": "2020-11-16T05:10:42.345370",
     "exception": false,
     "start_time": "2020-11-16T05:10:42.304307",
     "status": "completed"
    },
    "tags": []
   },
   "source": [
    "### Data preprocessing"
   ]
  },
  {
   "cell_type": "code",
   "execution_count": 19,
   "metadata": {
    "execution": {
     "iopub.execute_input": "2020-11-16T05:10:42.442018Z",
     "iopub.status.busy": "2020-11-16T05:10:42.441247Z",
     "iopub.status.idle": "2020-11-16T05:10:42.445392Z",
     "shell.execute_reply": "2020-11-16T05:10:42.444619Z"
    },
    "papermill": {
     "duration": 0.05858,
     "end_time": "2020-11-16T05:10:42.445525",
     "exception": false,
     "start_time": "2020-11-16T05:10:42.386945",
     "status": "completed"
    },
    "tags": []
   },
   "outputs": [],
   "source": [
    "transactions=[]\n",
    "for i in range(0,len(grocery_df)):\n",
    "    transactions.append(grocery_df['itemDescription'][i])"
   ]
  },
  {
   "cell_type": "markdown",
   "metadata": {
    "papermill": {
     "duration": 0.042836,
     "end_time": "2020-11-16T05:10:42.530408",
     "exception": false,
     "start_time": "2020-11-16T05:10:42.487572",
     "status": "completed"
    },
    "tags": []
   },
   "source": [
    "### Training the apriori model on the grocery items dataset"
   ]
  },
  {
   "cell_type": "markdown",
   "metadata": {
    "papermill": {
     "duration": 0.041361,
     "end_time": "2020-11-16T05:10:42.613439",
     "exception": false,
     "start_time": "2020-11-16T05:10:42.572078",
     "status": "completed"
    },
    "tags": []
   },
   "source": [
    "<div class=\"alert alert-block alert-info\">\n",
    "<b>Assumption:</b> The below rules contain items that have been sold for a minimum of 3 times in a day. Also, the minimum and maximum number of items in each rule is set to 3. These values are subject to changes basis business requirement.\n",
    "</div>"
   ]
  },
  {
   "cell_type": "code",
   "execution_count": 20,
   "metadata": {
    "execution": {
     "iopub.execute_input": "2020-11-16T05:10:42.703658Z",
     "iopub.status.busy": "2020-11-16T05:10:42.702812Z",
     "iopub.status.idle": "2020-11-16T05:10:42.708289Z",
     "shell.execute_reply": "2020-11-16T05:10:42.708844Z"
    },
    "papermill": {
     "duration": 0.053967,
     "end_time": "2020-11-16T05:10:42.709013",
     "exception": false,
     "start_time": "2020-11-16T05:10:42.655046",
     "status": "completed"
    },
    "tags": []
   },
   "outputs": [],
   "source": [
    "from apyori import apriori\n",
    "rules = apriori(transactions=transactions,min_support=0.0042,min_confidence=0.8,min_lift=3,\n",
    "                min_length=3,max_length=3)"
   ]
  },
  {
   "cell_type": "code",
   "execution_count": 21,
   "metadata": {
    "execution": {
     "iopub.execute_input": "2020-11-16T05:10:42.799155Z",
     "iopub.status.busy": "2020-11-16T05:10:42.798048Z",
     "iopub.status.idle": "2020-11-16T05:10:42.802803Z",
     "shell.execute_reply": "2020-11-16T05:10:42.802193Z"
    },
    "papermill": {
     "duration": 0.051856,
     "end_time": "2020-11-16T05:10:42.802934",
     "exception": false,
     "start_time": "2020-11-16T05:10:42.751078",
     "status": "completed"
    },
    "tags": []
   },
   "outputs": [
    {
     "data": {
      "text/plain": [
       "<generator object apriori at 0x7f6f712bc4d0>"
      ]
     },
     "execution_count": 21,
     "metadata": {},
     "output_type": "execute_result"
    }
   ],
   "source": [
    "rules"
   ]
  },
  {
   "cell_type": "code",
   "execution_count": 22,
   "metadata": {
    "execution": {
     "iopub.execute_input": "2020-11-16T05:10:42.913033Z",
     "iopub.status.busy": "2020-11-16T05:10:42.897153Z",
     "iopub.status.idle": "2020-11-16T05:11:09.207098Z",
     "shell.execute_reply": "2020-11-16T05:11:09.206432Z"
    },
    "papermill": {
     "duration": 26.361091,
     "end_time": "2020-11-16T05:11:09.207256",
     "exception": false,
     "start_time": "2020-11-16T05:10:42.846165",
     "status": "completed"
    },
    "tags": []
   },
   "outputs": [],
   "source": [
    "results = list(rules)"
   ]
  },
  {
   "cell_type": "code",
   "execution_count": 23,
   "metadata": {
    "execution": {
     "iopub.execute_input": "2020-11-16T05:11:09.300347Z",
     "iopub.status.busy": "2020-11-16T05:11:09.299249Z",
     "iopub.status.idle": "2020-11-16T05:11:09.303595Z",
     "shell.execute_reply": "2020-11-16T05:11:09.302860Z"
    },
    "papermill": {
     "duration": 0.052709,
     "end_time": "2020-11-16T05:11:09.303727",
     "exception": false,
     "start_time": "2020-11-16T05:11:09.251018",
     "status": "completed"
    },
    "tags": []
   },
   "outputs": [
    {
     "data": {
      "text/plain": [
       "336"
      ]
     },
     "execution_count": 23,
     "metadata": {},
     "output_type": "execute_result"
    }
   ],
   "source": [
    "len(results)"
   ]
  },
  {
   "cell_type": "code",
   "execution_count": 24,
   "metadata": {
    "execution": {
     "iopub.execute_input": "2020-11-16T05:11:09.404557Z",
     "iopub.status.busy": "2020-11-16T05:11:09.403569Z",
     "iopub.status.idle": "2020-11-16T05:11:09.406875Z",
     "shell.execute_reply": "2020-11-16T05:11:09.406130Z"
    },
    "papermill": {
     "duration": 0.059963,
     "end_time": "2020-11-16T05:11:09.407008",
     "exception": false,
     "start_time": "2020-11-16T05:11:09.347045",
     "status": "completed"
    },
    "tags": []
   },
   "outputs": [],
   "source": [
    "def inspect(results):\n",
    "    baseItem   = [tuple(result[2][0][0])[0:] for result in results]\n",
    "    addItem     = [tuple(result[2][0][1])[0] for result in results]\n",
    "    supports    = [result[1] for result in results]\n",
    "    confidences = [result[2][0][2] for result in results]\n",
    "    lifts       = [result[2][0][3] for result in results]\n",
    "    return list(zip(baseItem,addItem, supports, confidences, lifts))\n",
    "resultsinDataFrame = pd.DataFrame(inspect(results),columns=['BaseItems','AdditionalItems','Supports',\n",
    "                                                            'Confidences','Lifts'])"
   ]
  },
  {
   "cell_type": "code",
   "execution_count": 25,
   "metadata": {
    "execution": {
     "iopub.execute_input": "2020-11-16T05:11:09.517440Z",
     "iopub.status.busy": "2020-11-16T05:11:09.500385Z",
     "iopub.status.idle": "2020-11-16T05:11:09.522541Z",
     "shell.execute_reply": "2020-11-16T05:11:09.523125Z"
    },
    "papermill": {
     "duration": 0.072198,
     "end_time": "2020-11-16T05:11:09.523318",
     "exception": false,
     "start_time": "2020-11-16T05:11:09.451120",
     "status": "completed"
    },
    "tags": []
   },
   "outputs": [
    {
     "data": {
      "text/html": [
       "<div>\n",
       "<style scoped>\n",
       "    .dataframe tbody tr th:only-of-type {\n",
       "        vertical-align: middle;\n",
       "    }\n",
       "\n",
       "    .dataframe tbody tr th {\n",
       "        vertical-align: top;\n",
       "    }\n",
       "\n",
       "    .dataframe thead th {\n",
       "        text-align: right;\n",
       "    }\n",
       "</style>\n",
       "<table border=\"1\" class=\"dataframe\">\n",
       "  <thead>\n",
       "    <tr style=\"text-align: right;\">\n",
       "      <th></th>\n",
       "      <th>BaseItems</th>\n",
       "      <th>AdditionalItems</th>\n",
       "      <th>Supports</th>\n",
       "      <th>Confidences</th>\n",
       "      <th>Lifts</th>\n",
       "    </tr>\n",
       "  </thead>\n",
       "  <tbody>\n",
       "    <tr>\n",
       "      <th>0</th>\n",
       "      <td>(salad dressing,)</td>\n",
       "      <td>oil</td>\n",
       "      <td>0.006868</td>\n",
       "      <td>0.833333</td>\n",
       "      <td>3.111111</td>\n",
       "    </tr>\n",
       "    <tr>\n",
       "      <th>1</th>\n",
       "      <td>(female sanitary products, Instant food products)</td>\n",
       "      <td>semi-finished bread</td>\n",
       "      <td>0.005495</td>\n",
       "      <td>0.800000</td>\n",
       "      <td>4.585827</td>\n",
       "    </tr>\n",
       "    <tr>\n",
       "      <th>2</th>\n",
       "      <td>(mustard, Instant food products)</td>\n",
       "      <td>salt</td>\n",
       "      <td>0.005495</td>\n",
       "      <td>0.800000</td>\n",
       "      <td>7.372152</td>\n",
       "    </tr>\n",
       "    <tr>\n",
       "      <th>3</th>\n",
       "      <td>(spread cheese, Instant food products)</td>\n",
       "      <td>pickled vegetables</td>\n",
       "      <td>0.005495</td>\n",
       "      <td>0.800000</td>\n",
       "      <td>4.813223</td>\n",
       "    </tr>\n",
       "    <tr>\n",
       "      <th>4</th>\n",
       "      <td>(spread cheese, Instant food products)</td>\n",
       "      <td>sliced cheese</td>\n",
       "      <td>0.005495</td>\n",
       "      <td>0.800000</td>\n",
       "      <td>3.131183</td>\n",
       "    </tr>\n",
       "    <tr>\n",
       "      <th>...</th>\n",
       "      <td>...</td>\n",
       "      <td>...</td>\n",
       "      <td>...</td>\n",
       "      <td>...</td>\n",
       "      <td>...</td>\n",
       "    </tr>\n",
       "    <tr>\n",
       "      <th>331</th>\n",
       "      <td>(syrup, specialty chocolate)</td>\n",
       "      <td>sliced cheese</td>\n",
       "      <td>0.005495</td>\n",
       "      <td>0.800000</td>\n",
       "      <td>3.131183</td>\n",
       "    </tr>\n",
       "    <tr>\n",
       "      <th>332</th>\n",
       "      <td>(soft cheese, specialty fat)</td>\n",
       "      <td>sugar</td>\n",
       "      <td>0.005495</td>\n",
       "      <td>1.000000</td>\n",
       "      <td>3.370370</td>\n",
       "    </tr>\n",
       "    <tr>\n",
       "      <th>333</th>\n",
       "      <td>(sparkling wine, specialty chocolate)</td>\n",
       "      <td>white wine</td>\n",
       "      <td>0.008242</td>\n",
       "      <td>0.857143</td>\n",
       "      <td>3.974522</td>\n",
       "    </tr>\n",
       "    <tr>\n",
       "      <th>334</th>\n",
       "      <td>(spread cheese, spices)</td>\n",
       "      <td>specialty bar</td>\n",
       "      <td>0.005495</td>\n",
       "      <td>0.800000</td>\n",
       "      <td>3.165217</td>\n",
       "    </tr>\n",
       "    <tr>\n",
       "      <th>335</th>\n",
       "      <td>(zwieback, tidbits)</td>\n",
       "      <td>waffles</td>\n",
       "      <td>0.005495</td>\n",
       "      <td>1.000000</td>\n",
       "      <td>3.354839</td>\n",
       "    </tr>\n",
       "  </tbody>\n",
       "</table>\n",
       "<p>336 rows × 5 columns</p>\n",
       "</div>"
      ],
      "text/plain": [
       "                                             BaseItems      AdditionalItems  \\\n",
       "0                                    (salad dressing,)                  oil   \n",
       "1    (female sanitary products, Instant food products)  semi-finished bread   \n",
       "2                     (mustard, Instant food products)                 salt   \n",
       "3               (spread cheese, Instant food products)   pickled vegetables   \n",
       "4               (spread cheese, Instant food products)        sliced cheese   \n",
       "..                                                 ...                  ...   \n",
       "331                       (syrup, specialty chocolate)        sliced cheese   \n",
       "332                       (soft cheese, specialty fat)                sugar   \n",
       "333              (sparkling wine, specialty chocolate)           white wine   \n",
       "334                            (spread cheese, spices)        specialty bar   \n",
       "335                                (zwieback, tidbits)              waffles   \n",
       "\n",
       "     Supports  Confidences     Lifts  \n",
       "0    0.006868     0.833333  3.111111  \n",
       "1    0.005495     0.800000  4.585827  \n",
       "2    0.005495     0.800000  7.372152  \n",
       "3    0.005495     0.800000  4.813223  \n",
       "4    0.005495     0.800000  3.131183  \n",
       "..        ...          ...       ...  \n",
       "331  0.005495     0.800000  3.131183  \n",
       "332  0.005495     1.000000  3.370370  \n",
       "333  0.008242     0.857143  3.974522  \n",
       "334  0.005495     0.800000  3.165217  \n",
       "335  0.005495     1.000000  3.354839  \n",
       "\n",
       "[336 rows x 5 columns]"
      ]
     },
     "execution_count": 25,
     "metadata": {},
     "output_type": "execute_result"
    }
   ],
   "source": [
    "resultsinDataFrame"
   ]
  },
  {
   "cell_type": "code",
   "execution_count": 26,
   "metadata": {
    "execution": {
     "iopub.execute_input": "2020-11-16T05:11:09.663186Z",
     "iopub.status.busy": "2020-11-16T05:11:09.620933Z",
     "iopub.status.idle": "2020-11-16T05:11:10.575740Z",
     "shell.execute_reply": "2020-11-16T05:11:10.576353Z"
    },
    "papermill": {
     "duration": 1.008409,
     "end_time": "2020-11-16T05:11:10.576512",
     "exception": false,
     "start_time": "2020-11-16T05:11:09.568103",
     "status": "completed"
    },
    "tags": []
   },
   "outputs": [
    {
     "data": {
      "image/png": "[encoded data removed]",
      "text/plain": [
       "<Figure size 1440x864 with 1 Axes>"
      ]
     },
     "metadata": {
      "needs_background": "light"
     },
     "output_type": "display_data"
    }
   ],
   "source": [
    "# Visualizing the distribution of add-on items sold with base products\n",
    "plt.figure(figsize=(20,12))\n",
    "sns.countplot(x='AdditionalItems',data=resultsinDataFrame)\n",
    "plt.xlabel('Additional Items associated with base products',fontsize=20)\n",
    "plt.ylabel('Count of additional items',fontsize=20)\n",
    "plt.title('Distribution of additional items',fontsize=25)\n",
    "plt.xticks(rotation=90,fontsize=20)\n",
    "plt.yticks(fontsize=20)\n",
    "plt.show()"
   ]
  }
 ],
 "metadata": {
  "kernelspec": {
   "display_name": "Python 3",
   "language": "python",
   "name": "python3"
  },
  "language_info": {
   "codemirror_mode": {
    "name": "ipython",
    "version": 3
   },
   "file_extension": ".py",
   "mimetype": "text/x-python",
   "name": "python",
   "nbconvert_exporter": "python",
   "pygments_lexer": "ipython3",
   "version": "3.7.6"
  },
  "papermill": {
   "duration": 61.956739,
   "end_time": "2020-11-16T05:11:11.705696",
   "environment_variables": {},
   "exception": null,
   "input_path": "__notebook__.ipynb",
   "output_path": "__notebook__.ipynb",
   "parameters": {},
   "start_time": "2020-11-16T05:10:09.748957",
   "version": "2.1.0"
  }
 },
 "nbformat": 4,
 "nbformat_minor": 4
}
