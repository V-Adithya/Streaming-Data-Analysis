{
 "cells": [
  {
   "cell_type": "code",
   "execution_count": 16,
   "metadata": {},
   "outputs": [],
   "source": [
    "Dict={\"K1\":1,\"k2\":\"2\",\"K3\":[3,3,3],\"K4\":(4,4,4),(\"K5\"):5,(0,1):6}\n",
    "name={}"
   ]
  },
  {
   "cell_type": "code",
   "execution_count": 2,
   "metadata": {},
   "outputs": [
    {
     "name": "stdout",
     "output_type": "stream",
     "text": [
      "{'K1': 1, 'k2': '2', 'K3': [3, 3, 3], 'K4': (4, 4, 4), 'K5': 5, (0, 1): 6}\n",
      "1\n",
      "6\n"
     ]
    }
   ],
   "source": [
    "print(Dict)#{'K1': 1, 'k2': '2', 'K3': [3, 3, 3], 'K4': (4, 4, 4), 'K5': 5, (0, 1): 6}\n",
    "print(Dict[\"K1\"])#1\n",
    "print(Dict[(0,1)])#6"
   ]
  },
  {
   "cell_type": "code",
   "execution_count": 3,
   "metadata": {},
   "outputs": [],
   "source": [
    "Films={\"Leo\":2023,\"Ra-One\":2013,\"KGF\":2018,\"Train to Busan\":2016,\"Jujustu Kaisen\":2018,\"The next station is Shibuya\":1885}\n"
   ]
  },
  {
   "cell_type": "code",
   "execution_count": 4,
   "metadata": {},
   "outputs": [
    {
     "name": "stdout",
     "output_type": "stream",
     "text": [
      "{'Leo': 2023, 'Ra-One': 2013, 'KGF': 2018, 'Train to Busan': 2016, 'Jujustu Kaisen': 2018, 'The next station is Shibuya': 1885}\n",
      "{'Leo': 2023, 'Ra-One': 2013, 'KGF': 2018, 'Train to Busan': 2016, 'Jujustu Kaisen': 2018, 'The next station is Shibuya': 1885}\n"
     ]
    }
   ],
   "source": [
    "print(Films)\n",
    "print(Films)#Add some more examples of your own"
   ]
  },
  {
   "cell_type": "code",
   "execution_count": 5,
   "metadata": {},
   "outputs": [
    {
     "name": "stdout",
     "output_type": "stream",
     "text": [
      "{'Leo': 2023, 'Ra-One': 2013, 'KGF': 2018, 'Train to Busan': 2016, 'Jujustu Kaisen': 2018, 'The next station is Shibuya': 1885, 'Bankai': 2001, 'Bleach': 2001}\n"
     ]
    }
   ],
   "source": [
    "Films[\"Bankai\"]=2001\n",
    "Films[\"Bleach\"]=2001\n",
    "print(Films)"
   ]
  },
  {
   "cell_type": "code",
   "execution_count": 6,
   "metadata": {},
   "outputs": [
    {
     "name": "stdout",
     "output_type": "stream",
     "text": [
      "{'Leo': 2023, 'Ra-One': 2013, 'KGF': 2018, 'Train to Busan': 2016, 'Jujustu Kaisen': 2018, 'The next station is Shibuya': 1885, 'Bleach': 2001}\n"
     ]
    }
   ],
   "source": [
    "del(Films[\"Bankai\"])\n",
    "print(Films)"
   ]
  },
  {
   "cell_type": "code",
   "execution_count": 7,
   "metadata": {},
   "outputs": [
    {
     "data": {
      "text/plain": [
       "True"
      ]
     },
     "execution_count": 7,
     "metadata": {},
     "output_type": "execute_result"
    }
   ],
   "source": [
    "'The next station is Shibuya' in Films"
   ]
  },
  {
   "cell_type": "code",
   "execution_count": 12,
   "metadata": {},
   "outputs": [
    {
     "name": "stdout",
     "output_type": "stream",
     "text": [
      "How many items do you want?\n",
      "\n",
      "*\n",
      "**\n",
      "***\n",
      "****\n",
      "*****\n",
      "******\n",
      "*******\n",
      "********\n",
      "*********\n"
     ]
    }
   ],
   "source": [
    "def x(n):\n",
    "    for j in range(0,n):\n",
    "        print(\"*\"*j)\n",
    "\n",
    "print(\"How many items do you want?\")\n",
    "a=int(input(\"Enter the number of iterations do you want: \"))\n",
    "x(a)"
   ]
  },
  {
   "cell_type": "code",
   "execution_count": 17,
   "metadata": {},
   "outputs": [
    {
     "name": "stdout",
     "output_type": "stream",
     "text": [
      "Enter your name please\n"
     ]
    }
   ],
   "source": [
    "import random\n",
    "\n",
    "def isgay(n):\n",
    "    n1=n\n",
    "    for i in name:\n",
    "        if i==n: name\n",
    "    x1=random.randint(0,1)\n",
    "    if x1 == 1: n2=\"gay\"\n",
    "    else: n2=\"straight\"\n",
    "    name[n1]=n2\n",
    "\n",
    "print(\"Enter your name please\")\n",
    "c=input(\"Name :\")\n",
    "isgay(c)    "
   ]
  },
  {
   "cell_type": "code",
   "execution_count": 27,
   "metadata": {},
   "outputs": [
    {
     "data": {
      "text/plain": [
       "2"
      ]
     },
     "execution_count": 27,
     "metadata": {},
     "output_type": "execute_result"
    }
   ],
   "source": [
    "#Write a python program to find the smallest element in a list using User defined function\n",
    "def smallest(list):\n",
    "    x=list[1]\n",
    "    for i in list:\n",
    "        if (x>i): x=i\n",
    "    return x\n",
    "\n",
    "x=(29,334,53,324,2,23)\n",
    "smallest(x)"
   ]
  }
 ],
 "metadata": {
  "kernelspec": {
   "display_name": "Python 3",
   "language": "python",
   "name": "python3"
  },
  "language_info": {
   "codemirror_mode": {
    "name": "ipython",
    "version": 3
   },
   "file_extension": ".py",
   "mimetype": "text/x-python",
   "name": "python",
   "nbconvert_exporter": "python",
   "pygments_lexer": "ipython3",
   "version": "3.10.13"
  }
 },
 "nbformat": 4,
 "nbformat_minor": 2
}
